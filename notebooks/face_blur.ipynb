{
 "cells": [
  {
   "cell_type": "markdown",
   "id": "0adddd64",
   "metadata": {},
   "source": [
    "# Start"
   ]
  },
  {
   "cell_type": "code",
   "execution_count": 2,
   "id": "243eebd4",
   "metadata": {},
   "outputs": [],
   "source": [
    "x=1"
   ]
  },
  {
   "cell_type": "code",
   "execution_count": 5,
   "id": "b7c770ba",
   "metadata": {},
   "outputs": [
    {
     "name": "stdout",
     "output_type": "stream",
     "text": [
      "Applied providers: ['CUDAExecutionProvider', 'CPUExecutionProvider'], with options: {'CUDAExecutionProvider': {'device_id': '0', 'has_user_compute_stream': '0', 'cudnn_conv1d_pad_to_nc1d': '0', 'user_compute_stream': '0', 'gpu_external_alloc': '0', 'gpu_mem_limit': '18446744073709551615', 'enable_cuda_graph': '0', 'gpu_external_free': '0', 'gpu_external_empty_cache': '0', 'arena_extend_strategy': 'kNextPowerOfTwo', 'cudnn_conv_algo_search': 'EXHAUSTIVE', 'do_copy_in_default_stream': '1', 'cudnn_conv_use_max_workspace': '1', 'tunable_op_enable': '0', 'tunable_op_tuning_enable': '0', 'tunable_op_max_tuning_duration_ms': '0', 'enable_skip_layer_norm_strict_mode': '0', 'prefer_nhwc': '0', 'use_ep_level_unified_stream': '0', 'use_tf32': '1', 'sdpa_kernel': '0', 'fuse_conv_bias': '0'}, 'CPUExecutionProvider': {}}\n",
      "find model: C:\\Users\\Parvez/.insightface\\models\\buffalo_l\\1k3d68.onnx landmark_3d_68 ['None', 3, 192, 192] 0.0 1.0\n",
      "Applied providers: ['CUDAExecutionProvider', 'CPUExecutionProvider'], with options: {'CUDAExecutionProvider': {'device_id': '0', 'has_user_compute_stream': '0', 'cudnn_conv1d_pad_to_nc1d': '0', 'user_compute_stream': '0', 'gpu_external_alloc': '0', 'gpu_mem_limit': '18446744073709551615', 'enable_cuda_graph': '0', 'gpu_external_free': '0', 'gpu_external_empty_cache': '0', 'arena_extend_strategy': 'kNextPowerOfTwo', 'cudnn_conv_algo_search': 'EXHAUSTIVE', 'do_copy_in_default_stream': '1', 'cudnn_conv_use_max_workspace': '1', 'tunable_op_enable': '0', 'tunable_op_tuning_enable': '0', 'tunable_op_max_tuning_duration_ms': '0', 'enable_skip_layer_norm_strict_mode': '0', 'prefer_nhwc': '0', 'use_ep_level_unified_stream': '0', 'use_tf32': '1', 'sdpa_kernel': '0', 'fuse_conv_bias': '0'}, 'CPUExecutionProvider': {}}\n",
      "find model: C:\\Users\\Parvez/.insightface\\models\\buffalo_l\\2d106det.onnx landmark_2d_106 ['None', 3, 192, 192] 0.0 1.0\n",
      "Applied providers: ['CUDAExecutionProvider', 'CPUExecutionProvider'], with options: {'CUDAExecutionProvider': {'device_id': '0', 'has_user_compute_stream': '0', 'cudnn_conv1d_pad_to_nc1d': '0', 'user_compute_stream': '0', 'gpu_external_alloc': '0', 'gpu_mem_limit': '18446744073709551615', 'enable_cuda_graph': '0', 'gpu_external_free': '0', 'gpu_external_empty_cache': '0', 'arena_extend_strategy': 'kNextPowerOfTwo', 'cudnn_conv_algo_search': 'EXHAUSTIVE', 'do_copy_in_default_stream': '1', 'cudnn_conv_use_max_workspace': '1', 'tunable_op_enable': '0', 'tunable_op_tuning_enable': '0', 'tunable_op_max_tuning_duration_ms': '0', 'enable_skip_layer_norm_strict_mode': '0', 'prefer_nhwc': '0', 'use_ep_level_unified_stream': '0', 'use_tf32': '1', 'sdpa_kernel': '0', 'fuse_conv_bias': '0'}, 'CPUExecutionProvider': {}}\n",
      "find model: C:\\Users\\Parvez/.insightface\\models\\buffalo_l\\det_10g.onnx detection [1, 3, '?', '?'] 127.5 128.0\n",
      "Applied providers: ['CUDAExecutionProvider', 'CPUExecutionProvider'], with options: {'CUDAExecutionProvider': {'device_id': '0', 'has_user_compute_stream': '0', 'cudnn_conv1d_pad_to_nc1d': '0', 'user_compute_stream': '0', 'gpu_external_alloc': '0', 'gpu_mem_limit': '18446744073709551615', 'enable_cuda_graph': '0', 'gpu_external_free': '0', 'gpu_external_empty_cache': '0', 'arena_extend_strategy': 'kNextPowerOfTwo', 'cudnn_conv_algo_search': 'EXHAUSTIVE', 'do_copy_in_default_stream': '1', 'cudnn_conv_use_max_workspace': '1', 'tunable_op_enable': '0', 'tunable_op_tuning_enable': '0', 'tunable_op_max_tuning_duration_ms': '0', 'enable_skip_layer_norm_strict_mode': '0', 'prefer_nhwc': '0', 'use_ep_level_unified_stream': '0', 'use_tf32': '1', 'sdpa_kernel': '0', 'fuse_conv_bias': '0'}, 'CPUExecutionProvider': {}}\n",
      "find model: C:\\Users\\Parvez/.insightface\\models\\buffalo_l\\genderage.onnx genderage ['None', 3, 96, 96] 0.0 1.0\n",
      "Applied providers: ['CUDAExecutionProvider', 'CPUExecutionProvider'], with options: {'CUDAExecutionProvider': {'device_id': '0', 'has_user_compute_stream': '0', 'cudnn_conv1d_pad_to_nc1d': '0', 'user_compute_stream': '0', 'gpu_external_alloc': '0', 'gpu_mem_limit': '18446744073709551615', 'enable_cuda_graph': '0', 'gpu_external_free': '0', 'gpu_external_empty_cache': '0', 'arena_extend_strategy': 'kNextPowerOfTwo', 'cudnn_conv_algo_search': 'EXHAUSTIVE', 'do_copy_in_default_stream': '1', 'cudnn_conv_use_max_workspace': '1', 'tunable_op_enable': '0', 'tunable_op_tuning_enable': '0', 'tunable_op_max_tuning_duration_ms': '0', 'enable_skip_layer_norm_strict_mode': '0', 'prefer_nhwc': '0', 'use_ep_level_unified_stream': '0', 'use_tf32': '1', 'sdpa_kernel': '0', 'fuse_conv_bias': '0'}, 'CPUExecutionProvider': {}}\n",
      "find model: C:\\Users\\Parvez/.insightface\\models\\buffalo_l\\w600k_r50.onnx recognition ['None', 3, 112, 112] 127.5 127.5\n",
      "set det-size: (640, 640)\n",
      "InsightFace ready.\n"
     ]
    }
   ],
   "source": [
    "from insightface.app import FaceAnalysis\n",
    "app = FaceAnalysis(name='buffalo_l')\n",
    "app.prepare(ctx_id=0, det_size=(640,640))  # -1 = CPU, 0 = first GPU\n",
    "print(\"InsightFace ready.\")"
   ]
  },
  {
   "cell_type": "code",
   "execution_count": 6,
   "id": "aef312c8",
   "metadata": {},
   "outputs": [
    {
     "name": "stderr",
     "output_type": "stream",
     "text": [
      "usage: ipykernel_launcher.py [-h] [--out_dir OUT_DIR] [--cam CAM]\n",
      "                             [--shots SHOTS] [--device {gpu,cpu}]\n",
      "                             [--gpu_id GPU_ID] [--det_size DET_SIZE]\n",
      "ipykernel_launcher.py: error: unrecognized arguments: --f=c:\\Users\\Parvez\\AppData\\Roaming\\jupyter\\runtime\\kernel-v34a6edcfbf3b113f3abc980e7e65ea07bb0594ee8.json\n"
     ]
    },
    {
     "ename": "SystemExit",
     "evalue": "2",
     "output_type": "error",
     "traceback": [
      "An exception has occurred, use %tb to see the full traceback.\n",
      "\u001b[31mSystemExit\u001b[39m\u001b[31m:\u001b[39m 2\n"
     ]
    },
    {
     "name": "stderr",
     "output_type": "stream",
     "text": [
      "c:\\Computer Science\\Projects\\tiktok-techjam-2025\\venv_notebook\\Lib\\site-packages\\IPython\\core\\interactiveshell.py:3707: UserWarning: To exit: use 'exit', 'quit', or Ctrl-D.\n",
      "  warn(\"To exit: use 'exit', 'quit', or Ctrl-D.\", stacklevel=1)\n"
     ]
    }
   ],
   "source": [
    "# enroll_face.py\n",
    "import argparse, json, cv2, numpy as np\n",
    "from pathlib import Path\n",
    "from insightface.app import FaceAnalysis\n",
    "\n",
    "def _pick_ctx_id(device: str, gpu_id: int) -> int:\n",
    "    \"\"\"\n",
    "    Returns  GPU index if CUDA provider is available and device=='gpu', else -1 (CPU).\n",
    "    \"\"\"\n",
    "    if device.lower() != \"gpu\":\n",
    "        return -1\n",
    "    try:\n",
    "        import onnxruntime as ort\n",
    "        providers = ort.get_available_providers()\n",
    "        if \"CUDAExecutionProvider\" in providers:\n",
    "            return int(gpu_id)\n",
    "        else:\n",
    "            print(\"[WARN] CUDAExecutionProvider not available; falling back to CPU.\")\n",
    "            return -1\n",
    "    except Exception as e:\n",
    "        print(f\"[WARN] onnxruntime check failed ({e}); falling back to CPU.\")\n",
    "        return -1\n",
    "\n",
    "def enroll(out_dir=\"whitelist\", cam=0, shots=20, device=\"gpu\", gpu_id=0, det_size=640):\n",
    "    Path(out_dir).mkdir(parents=True, exist_ok=True)\n",
    "\n",
    "    # Prepare InsightFace on GPU if available, else CPU\n",
    "    ctx_id = _pick_ctx_id(device, gpu_id)\n",
    "    print(f\"[Enroll] Initializing FaceAnalysis (ctx_id={ctx_id})...\")\n",
    "    app = FaceAnalysis(name=\"buffalo_l\")\n",
    "    app.prepare(ctx_id=ctx_id, det_size=(det_size, det_size))\n",
    "    print(\"[Enroll] InsightFace ready.\")\n",
    "\n",
    "    cap = cv2.VideoCapture(cam)\n",
    "    if not cap.isOpened():\n",
    "        print(f\"[ERROR] Cannot open camera source: {cam}\")\n",
    "        return\n",
    "\n",
    "    embs = []\n",
    "    print(\"[Enroll] Look at the camera; press 'q' to stop early.\")\n",
    "    while len(embs) < shots:\n",
    "        ok, frame = cap.read()\n",
    "        if not ok:\n",
    "            print(\"[WARN] Frame grab failed; stopping.\")\n",
    "            break\n",
    "\n",
    "        faces = app.get(frame)\n",
    "        if faces:\n",
    "            # Take the largest face\n",
    "            f = max(faces, key=lambda x: (x.bbox[2]-x.bbox[0])*(x.bbox[3]-x.bbox[1]))\n",
    "            if getattr(f, \"normed_embedding\", None) is not None:\n",
    "                embs.append(f.normed_embedding.astype(float))\n",
    "            # Visual feedback\n",
    "            x1, y1, x2, y2 = map(int, f.bbox)\n",
    "            cv2.rectangle(frame, (x1, y1), (x2, y2), (0,255,0), 2)\n",
    "\n",
    "        cv2.imshow(\"Enroll\", frame)\n",
    "        if cv2.waitKey(1) & 0xFF == ord('q'):\n",
    "            break\n",
    "\n",
    "    cap.release(); cv2.destroyAllWindows()\n",
    "\n",
    "    if not embs:\n",
    "        print(\"[Enroll] No face embeddings captured.\")\n",
    "        return\n",
    "\n",
    "    mean_emb = np.mean(np.stack(embs, axis=0), axis=0)\n",
    "    out = Path(out_dir) / \"creator_embedding.json\"\n",
    "    out.write_text(json.dumps({\"embedding\": mean_emb.tolist()}), encoding=\"utf-8\")\n",
    "    print(f\"[Enroll] Saved: {out}\")\n",
    "\n",
    "if __name__ == \"__main__\":\n",
    "    ap = argparse.ArgumentParser(description=\"Enroll the creator's face embedding (GPU-first).\")\n",
    "    ap.add_argument(\"--out_dir\", default=\"whitelist\")\n",
    "    ap.add_argument(\"--cam\", type=int, default=0)\n",
    "    ap.add_argument(\"--shots\", type=int, default=20)\n",
    "    ap.add_argument(\"--device\", choices=[\"gpu\",\"cpu\"], default=\"gpu\")\n",
    "    ap.add_argument(\"--gpu_id\", type=int, default=0, help=\"GPU index (0 for first GPU)\")\n",
    "    ap.add_argument(\"--det_size\", type=int, default=640, help=\"Detector input size (square)\")\n",
    "    args = ap.parse_args()\n",
    "\n",
    "    enroll(out_dir=args.out_dir, cam=args.cam, shots=args.shots,\n",
    "           device=args.device, gpu_id=args.gpu_id, det_size=args.det_size)\n"
   ]
  },
  {
   "cell_type": "markdown",
   "id": "0c54fee4",
   "metadata": {},
   "source": [
    "# Blur the faces"
   ]
  },
  {
   "cell_type": "code",
   "execution_count": null,
   "id": "e7468c86",
   "metadata": {},
   "outputs": [],
   "source": []
  }
 ],
 "metadata": {
  "kernelspec": {
   "display_name": "venv_notebook",
   "language": "python",
   "name": "python3"
  },
  "language_info": {
   "codemirror_mode": {
    "name": "ipython",
    "version": 3
   },
   "file_extension": ".py",
   "mimetype": "text/x-python",
   "name": "python",
   "nbconvert_exporter": "python",
   "pygments_lexer": "ipython3",
   "version": "3.13.5"
  }
 },
 "nbformat": 4,
 "nbformat_minor": 5
}
