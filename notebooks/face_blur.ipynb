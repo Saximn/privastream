{
 "cells": [
  {
   "cell_type": "markdown",
   "id": "0adddd64",
   "metadata": {},
   "source": [
    "# Start"
   ]
  },
  {
   "cell_type": "code",
   "execution_count": 1,
   "id": "b7c770ba",
   "metadata": {},
   "outputs": [
    {
     "name": "stdout",
     "output_type": "stream",
     "text": [
      "Applied providers: ['CPUExecutionProvider'], with options: {'CPUExecutionProvider': {}}\n",
      "find model: C:\\Users\\Parvez/.insightface\\models\\buffalo_l\\1k3d68.onnx landmark_3d_68 ['None', 3, 192, 192] 0.0 1.0\n",
      "Applied providers: ['CPUExecutionProvider'], with options: {'CPUExecutionProvider': {}}\n",
      "find model: C:\\Users\\Parvez/.insightface\\models\\buffalo_l\\2d106det.onnx landmark_2d_106 ['None', 3, 192, 192] 0.0 1.0\n",
      "Applied providers: ['CPUExecutionProvider'], with options: {'CPUExecutionProvider': {}}\n",
      "find model: C:\\Users\\Parvez/.insightface\\models\\buffalo_l\\det_10g.onnx detection [1, 3, '?', '?'] 127.5 128.0\n",
      "Applied providers: ['CPUExecutionProvider'], with options: {'CPUExecutionProvider': {}}\n",
      "find model: C:\\Users\\Parvez/.insightface\\models\\buffalo_l\\genderage.onnx genderage ['None', 3, 96, 96] 0.0 1.0\n",
      "Applied providers: ['CPUExecutionProvider'], with options: {'CPUExecutionProvider': {}}\n",
      "find model: C:\\Users\\Parvez/.insightface\\models\\buffalo_l\\w600k_r50.onnx recognition ['None', 3, 112, 112] 127.5 127.5\n",
      "set det-size: (640, 640)\n",
      "InsightFace ready.\n"
     ]
    }
   ],
   "source": [
    "from insightface.app import FaceAnalysis\n",
    "app = FaceAnalysis(name='buffalo_l')\n",
    "app.prepare(ctx_id=-1, det_size=(640,640))  # -1 = CPU, 0 = first GPU\n",
    "print(\"InsightFace ready.\")"
   ]
  },
  {
   "cell_type": "code",
   "execution_count": 4,
   "id": "a5b78a03",
   "metadata": {},
   "outputs": [
    {
     "data": {
      "text/plain": [
       "False"
      ]
     },
     "execution_count": 4,
     "metadata": {},
     "output_type": "execute_result"
    }
   ],
   "source": [
    "import torch\n",
    "\n",
    "torch.cuda.is_available()"
   ]
  },
  {
   "cell_type": "code",
   "execution_count": null,
   "id": "3f5e6a56",
   "metadata": {},
   "outputs": [],
   "source": []
  },
  {
   "cell_type": "code",
   "execution_count": 3,
   "id": "aef312c8",
   "metadata": {},
   "outputs": [
    {
     "name": "stdout",
     "output_type": "stream",
     "text": [
      "Applied providers: ['CPUExecutionProvider'], with options: {'CPUExecutionProvider': {}}\n",
      "find model: C:\\Users\\Parvez/.insightface\\models\\buffalo_l\\1k3d68.onnx landmark_3d_68 ['None', 3, 192, 192] 0.0 1.0\n",
      "Applied providers: ['CPUExecutionProvider'], with options: {'CPUExecutionProvider': {}}\n",
      "find model: C:\\Users\\Parvez/.insightface\\models\\buffalo_l\\2d106det.onnx landmark_2d_106 ['None', 3, 192, 192] 0.0 1.0\n",
      "Applied providers: ['CPUExecutionProvider'], with options: {'CPUExecutionProvider': {}}\n",
      "find model: C:\\Users\\Parvez/.insightface\\models\\buffalo_l\\det_10g.onnx detection [1, 3, '?', '?'] 127.5 128.0\n",
      "Applied providers: ['CPUExecutionProvider'], with options: {'CPUExecutionProvider': {}}\n",
      "find model: C:\\Users\\Parvez/.insightface\\models\\buffalo_l\\genderage.onnx genderage ['None', 3, 96, 96] 0.0 1.0\n",
      "Applied providers: ['CPUExecutionProvider'], with options: {'CPUExecutionProvider': {}}\n",
      "find model: C:\\Users\\Parvez/.insightface\\models\\buffalo_l\\w600k_r50.onnx recognition ['None', 3, 112, 112] 127.5 127.5\n",
      "set det-size: (640, 640)\n",
      "[Enroll] Look at the camera; press q to stop early.\n",
      "[Enroll] Saved: whitelist\\creator_embedding.json\n"
     ]
    }
   ],
   "source": [
    "# enroll_face.py\n",
    "import json, cv2, numpy as np\n",
    "from pathlib import Path\n",
    "from insightface.app import FaceAnalysis\n",
    "\n",
    "def enroll(out_dir=\"whitelist\", cam=0, shots=20, device=\"cpu\"):\n",
    "    Path(out_dir).mkdir(parents=True, exist_ok=True)\n",
    "    app = FaceAnalysis(name=\"buffalo_l\")\n",
    "    ctx_id = -1 if device==\"cpu\" else 0\n",
    "    app.prepare(ctx_id=ctx_id, det_size=(640,640))\n",
    "\n",
    "    cap = cv2.VideoCapture(cam)\n",
    "    embs = []\n",
    "    print(\"[Enroll] Look at the camera; press q to stop early.\")\n",
    "    while len(embs) < shots:\n",
    "        ok, frame = cap.read()\n",
    "        if not ok: break\n",
    "        faces = app.get(frame)\n",
    "        if faces:\n",
    "            f = max(faces, key=lambda x: (x.bbox[2]-x.bbox[0])*(x.bbox[3]-x.bbox[1]))\n",
    "            embs.append(f.normed_embedding.astype(float))\n",
    "            # feedback box\n",
    "            x1,y1,x2,y2 = map(int, f.bbox)\n",
    "            cv2.rectangle(frame,(x1,y1),(x2,y2),(0,255,0),2)\n",
    "        cv2.imshow(\"Enroll\", frame)\n",
    "        if cv2.waitKey(1) & 0xFF == ord('q'):\n",
    "            break\n",
    "    cap.release(); cv2.destroyAllWindows()\n",
    "\n",
    "    if not embs:\n",
    "        print(\"[Enroll] No face captured.\"); return\n",
    "    mean_emb = np.mean(np.stack(embs, axis=0), axis=0)\n",
    "    out = Path(out_dir) / \"creator_embedding.json\"\n",
    "    out.write_text(json.dumps({\"embedding\": mean_emb.tolist()}), encoding=\"utf-8\")\n",
    "    print(f\"[Enroll] Saved: {out}\")\n",
    "\n",
    "if __name__ == \"__main__\":\n",
    "    enroll()\n"
   ]
  },
  {
   "cell_type": "code",
   "execution_count": 2,
   "id": "ad1a56ff",
   "metadata": {},
   "outputs": [],
   "source": [
    "import numpy as np\n",
    "def cosine_distance(a, b):\n",
    "    a = a / (np.linalg.norm(a)+1e-9)\n",
    "    b = b / (np.linalg.norm(b)+1e-9)\n",
    "    return 1 - float(np.dot(a, b))\n"
   ]
  },
  {
   "cell_type": "markdown",
   "id": "0c54fee4",
   "metadata": {},
   "source": [
    "# Blur the faces"
   ]
  },
  {
   "cell_type": "code",
   "execution_count": null,
   "id": "e7468c86",
   "metadata": {},
   "outputs": [],
   "source": []
  }
 ],
 "metadata": {
  "kernelspec": {
   "display_name": "venv_notebook",
   "language": "python",
   "name": "python3"
  },
  "language_info": {
   "codemirror_mode": {
    "name": "ipython",
    "version": 3
   },
   "file_extension": ".py",
   "mimetype": "text/x-python",
   "name": "python",
   "nbconvert_exporter": "python",
   "pygments_lexer": "ipython3",
   "version": "3.13.5"
  }
 },
 "nbformat": 4,
 "nbformat_minor": 5
}
